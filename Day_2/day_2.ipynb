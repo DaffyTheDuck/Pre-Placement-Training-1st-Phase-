{
 "cells": [
  {
   "cell_type": "code",
   "execution_count": 3,
   "metadata": {},
   "outputs": [
    {
     "name": "stdout",
     "output_type": "stream",
     "text": [
      "1\n",
      "2\n",
      "3\n",
      "4\n",
      "5\n"
     ]
    }
   ],
   "source": [
    "# Lists\n",
    "dl = [1,2, 3, 4, 5]\n",
    "\n",
    "# accessing using for loop\n",
    "for i in dl:\n",
    "    print(i)"
   ]
  },
  {
   "cell_type": "code",
   "execution_count": 6,
   "metadata": {},
   "outputs": [
    {
     "name": "stdout",
     "output_type": "stream",
     "text": [
      "4\n",
      "4\n"
     ]
    }
   ],
   "source": [
    "# Indexing\n",
    "\n",
    "positive_indexing = dl[3] # Should print 4\n",
    "print(positive_indexing)\n",
    "\n",
    "negative_indexing = dl[-2]\n",
    "print(negative_indexing)  # Prints 4"
   ]
  },
  {
   "cell_type": "code",
   "execution_count": 9,
   "metadata": {},
   "outputs": [
    {
     "data": {
      "text/plain": [
       "[1, 2, 3, 4, 5, 7]"
      ]
     },
     "execution_count": 9,
     "metadata": {},
     "output_type": "execute_result"
    }
   ],
   "source": [
    "dl = [2, 5, 1, 3, 4, 7]\n",
    "sorted_dl = dl.sort() # Needs to manually print to see the sorted list\n",
    "sorted(dl) # Returns the new sorted list"
   ]
  },
  {
   "cell_type": "code",
   "execution_count": 41,
   "metadata": {},
   "outputs": [
    {
     "name": "stdout",
     "output_type": "stream",
     "text": [
      "Original List: [11.0, 88.0, 22.0, 111.0, 33.0]\n",
      "Greater than: [83.0, 106.0]\n",
      "Less than: [21.0, 32.0, 43.0]\n",
      "Min: 11.0\n",
      "Max: 111.0\n",
      "Sum: 265.0\n",
      "Avg: 53.0\n"
     ]
    }
   ],
   "source": [
    "#accept all elements in list till 1st blank given\n",
    "#and then find min,max,sum and average of all numbers from list\n",
    "\n",
    "empty_list = []\n",
    "\n",
    "while True:\n",
    "    data=input(\"Enter Data: \")\n",
    "    if data=='':\n",
    "        break\n",
    "    empty_list.append(float(data))\n",
    "\n",
    "print(f\"Original List: {empty_list}\")\n",
    "greater_than = print(f\"Greater than: {[x-5 for x in empty_list if x > sum(empty_list)/len(empty_list)]}\")\n",
    "lower_than = print(f\"Less than: {[x+10 for x in empty_list if x < sum(empty_list)/len(empty_list)]}\")\n",
    "\n",
    "\n",
    "print(f\"Min: {min(empty_list)}\")\n",
    "print(f\"Max: {max(empty_list)}\")\n",
    "print(f\"Sum: {sum(empty_list)}\")\n",
    "print(f\"Avg: {sum(empty_list)/len(empty_list)}\")\n"
   ]
  },
  {
   "cell_type": "code",
   "execution_count": 66,
   "metadata": {},
   "outputs": [
    {
     "name": "stdout",
     "output_type": "stream",
     "text": [
      "Winner: 64.0, by value: 0.0\n"
     ]
    }
   ],
   "source": [
    "#list has all bid for a product [22,11,66,99,33,55,88]\n",
    "#one who wins is closest to the original value\n",
    "#if product cost is 64 then 66 wins\n",
    "\n",
    "bid_list = []\n",
    "original_value = float(input(\"Enter the original value: \"))\n",
    "\n",
    "while True:\n",
    "    data=input(\"Enter Bids: \")\n",
    "    if data=='':\n",
    "        break\n",
    "    bid_list.append(float(data))\n",
    "\n",
    "bid_diff = []\n",
    "\n",
    "for i in bid_list:\n",
    "    bid_diff.append(abs(original_value - i))\n",
    "\n",
    "index_of_min_diff = bid_diff.index(min(bid_diff))\n",
    "print(f\"Winner: {bid_list[int(index_of_min_diff)]}, by value: {bid_diff[index_of_min_diff]}\")\n",
    "\n"
   ]
  },
  {
   "cell_type": "code",
   "execution_count": 3,
   "metadata": {},
   "outputs": [
    {
     "name": "stdout",
     "output_type": "stream",
     "text": [
      "[65, 23, 22, 21, 67]\n",
      "[67, 21, 22, 23, 65]\n"
     ]
    }
   ],
   "source": [
    "# cycle clockwise to list of n for user given times\n",
    "#[1,2,3,4,5]--->[5,1,2,3,4]--->[4,5,1,2,3]---n\n",
    "\n",
    "# Clockwise\n",
    "clk_list = []\n",
    "\n",
    "n = int(input(\"Enter N:\"))\n",
    "for i in range(n):\n",
    "    number = int(input(\"Enter the number: \"))\n",
    "    clk_list.append(number)\n",
    "\n",
    "print(clk_list)\n",
    "\n",
    "for i in range(n):\n",
    "    clk_list.insert(0, clk_list.pop(i))\n",
    "\n",
    "print(clk_list)\n"
   ]
  },
  {
   "cell_type": "code",
   "execution_count": 86,
   "metadata": {},
   "outputs": [
    {
     "name": "stdout",
     "output_type": "stream",
     "text": [
      "11\n",
      "22\n",
      "33\n",
      "44\n",
      "55\n",
      "66\n",
      "77\n",
      "88\n",
      "99\n"
     ]
    }
   ],
   "source": [
    "list2d = [[11, 22, 33], [44, 55], [66, 77, 88, 99]]\n",
    "n_to_find = int(input(\"Enter a number: \"))\n",
    "for i in list2d:\n",
    "    for j in i:\n",
    "        print()"
   ]
  },
  {
   "cell_type": "code",
   "execution_count": 1,
   "metadata": {},
   "outputs": [
    {
     "name": "stdout",
     "output_type": "stream",
     "text": [
      "<class 'set'>\n"
     ]
    }
   ],
   "source": [
    "# Sets\n",
    "\n",
    "# To create an empty set\n",
    "s = set()\n",
    "print(type(s))"
   ]
  },
  {
   "cell_type": "code",
   "execution_count": 2,
   "metadata": {},
   "outputs": [
    {
     "data": {
      "text/plain": [
       "{1, 2, 3, 22, 23, 45, 54}"
      ]
     },
     "execution_count": 2,
     "metadata": {},
     "output_type": "execute_result"
    }
   ],
   "source": [
    "# Can take duplicate values but removes them in output\n",
    "\n",
    "s_1 = {1, 2, 3, 1, 22, 23, 2, 45, 54, 22}\n",
    "s_1 # Outputs set with custom element order"
   ]
  },
  {
   "cell_type": "code",
   "execution_count": 12,
   "metadata": {},
   "outputs": [
    {
     "name": "stdout",
     "output_type": "stream",
     "text": [
      "People who has not taken part in anything: {3, 6}\n",
      "One who is part in all: {2}\n",
      "One who is part in dance and signing: {2}\n",
      "One who can be in security: {1, 3, 6, 9}\n"
     ]
    }
   ],
   "source": [
    "s={1, 2, 3, 4, 5, 6, 7, 8, 9}\n",
    "sing={2, 5, 7}\n",
    "dance={2, 4, 8}\n",
    "security={1, 2, 9}\n",
    "\n",
    "# one who has not taken part in anything\n",
    "print(f\"People who has not taken part in anything: {s-(sing|dance|security)}\")\n",
    "\n",
    "# one who is part in all\n",
    "print(f\"One who is part in all: {sing&dance&security}\")\n",
    "\n",
    "# one who part in dance and singing\n",
    "print(f\"One who is part in dance and signing: {dance&sing}\")\n",
    "\n",
    "# One who can be in security who are not in anything\n",
    "print(f\"One who can be in security: {s-(sing|dance)}\")"
   ]
  },
  {
   "cell_type": "code",
   "execution_count": 33,
   "metadata": {},
   "outputs": [
    {
     "name": "stdout",
     "output_type": "stream",
     "text": [
      "[23, 23, 23, 45, 65]\n",
      "23 occured 3 time\n",
      "45 occured 1 time\n",
      "65 occured 1 time\n",
      "values and their frequencies: {23: 3, 45: 1, 65: 1}\n"
     ]
    }
   ],
   "source": [
    "# print in sorted order with frequency of each number\n",
    "\n",
    "my_list = []\n",
    "to_dict = {}\n",
    "\n",
    "n = int(input(\"Enter N:\"))\n",
    "for i in range(n):\n",
    "    number = int(input(\"Enter the number: \"))\n",
    "    my_list.append(number)\n",
    "\n",
    "print(my_list)\n",
    "\n",
    "for i in sorted(set(my_list)):\n",
    "    print(f\"{i} occured {my_list.count(i)} time\")\n",
    "    to_dict[i] = my_list.count(i)\n",
    "\n",
    "print(f\"values and their frequencies: {to_dict}\")"
   ]
  },
  {
   "cell_type": "code",
   "execution_count": 27,
   "metadata": {},
   "outputs": [
    {
     "name": "stdout",
     "output_type": "stream",
     "text": [
      "[9, 10, 22, 23, 43]\n",
      "Minimum is: 9\n",
      "Second Minimum is: 10\n"
     ]
    }
   ],
   "source": [
    "# From the list of n elements find min and second minimum from unique list\n",
    "\n",
    "my_list = []\n",
    "\n",
    "n = int(input(\"Enter N:\"))\n",
    "for i in range(n):\n",
    "    number = int(input(\"Enter the number: \"))\n",
    "    my_list.append(number)\n",
    "\n",
    "another_list = sorted(list(set(my_list)))\n",
    "print(another_list)\n",
    "\n",
    "print(f\"Minimum is: {another_list[0]}\")\n",
    "print(f\"Second Minimum is: {another_list[1]}\")\n"
   ]
  },
  {
   "cell_type": "code",
   "execution_count": 47,
   "metadata": {},
   "outputs": [
    {
     "name": "stdout",
     "output_type": "stream",
     "text": [
      "1. Tea\n",
      "2. Coffee\n",
      "3. Water\n",
      "4. Bun Maska\n",
      "0. Cya!\n",
      "Coffee selected!\n",
      "Cost of coffee is: 20\n",
      "The total cost for the Coffee will be: 60\n",
      "Tea selected!\n",
      "Cost of Tea is: 10\n",
      "The total cost for the Tea will be: 40\n",
      "Cya!\n",
      "Your total will be: 100\n"
     ]
    }
   ],
   "source": [
    "#you are a tea stall owner\n",
    "#selling tea(10),coffee(20),water(15),bun maska(20)\n",
    "# allow user to select the order from menu driven\n",
    "\n",
    "print(\"1. Tea\")\n",
    "print(\"2. Coffee\")\n",
    "print(\"3. Water\")\n",
    "print(\"4. Bun Maska\")\n",
    "print(\"0. Cya!\")\n",
    "\n",
    "menu = {\n",
    "    'Tea': 10,\n",
    "    'Coffee': 20,\n",
    "    'Water': 15,\n",
    "    'Bun Maska': 20\n",
    "}\n",
    "\n",
    "units_sold = {}\n",
    "\n",
    "price_list = []\n",
    "while True:\n",
    "    user_input = int(input(\"Enter Your Choise: \"))\n",
    "    if user_input == 1:\n",
    "        print(\"Tea selected!\")\n",
    "        print(f\"Cost of Tea is: {menu['Tea']}\")\n",
    "        tea_quantity = int(input(\"Enter the quantity: \"))\n",
    "        print(f\"The total cost for the Tea will be: {menu['Tea']*tea_quantity}\")\n",
    "        price_list.append(menu['Tea'] * tea_quantity)\n",
    "        units_sold['Tea'] = tea_quantity\n",
    "    elif user_input == 2:\n",
    "        print(\"Coffee selected!\")\n",
    "        print(f\"Cost of coffee is: {menu['Coffee']}\")\n",
    "        coffee_quantity = int(input(\"Enter the quantity: \"))\n",
    "        print(f\"The total cost for the Coffee will be: {menu['Coffee']*coffee_quantity}\")\n",
    "        price_list.append(menu['Coffee'] * coffee_quantity)\n",
    "        units_sold['Coffee'] = coffee_quantity\n",
    "    elif user_input == 3:\n",
    "        print(\"Water selected!\")\n",
    "        print(f\"Cost of Water is: {menu['Water']}\")\n",
    "        water_quantity = int(input(\"Enter the quantity: \"))\n",
    "        print(f\"The total cost for the Water will be: {menu['Water']*water_quantity}\")\n",
    "        price_list.append(menu['Water'] * water_quantity)\n",
    "        units_sold['Water'] = water_quantity\n",
    "    elif user_input == 4:\n",
    "        print(\"Bun Maska selected!\")\n",
    "        print(f\"Cost of Bun Maska is: {menu['Bun Maska']}\")\n",
    "        bun_maska_quantity = int(input(\"Enter the quantity: \"))\n",
    "        print(f\"The total cost for the Bun Maska will be: {menu['Bun Maska']*bun_maska_quantity}\")\n",
    "        price_list.append(menu['Bun Maska'] * bun_maska_quantity)\n",
    "        units_sold['Bun Maska'] = bun_maska_quantity\n",
    "    elif user_input == 0:\n",
    "        print(\"Cya!\")\n",
    "        break\n",
    "    else:\n",
    "        print(\"Invalid Choice!\")\n",
    "    \n",
    "print(f\"Your total will be: {sum(price_list)}\")\n",
    "\n"
   ]
  },
  {
   "cell_type": "code",
   "execution_count": 90,
   "metadata": {},
   "outputs": [
    {
     "name": "stdout",
     "output_type": "stream",
     "text": [
      "Your Bill Number Is: 1977\n",
      "Coffee | Units: 3 | Cost: 60\n",
      "Total is: 60\n",
      "Tea | Units: 4 | Cost: 40\n",
      "Total is: 100\n"
     ]
    }
   ],
   "source": [
    "import random\n",
    "\n",
    "total = 0\n",
    "while True:\n",
    "    bill_number = random.randint(1, 10000)\n",
    "    seller_input = int(input(\"-1 for exit other number : NO\"))\n",
    "    if seller_input != -1:\n",
    "        print(f\"Your Bill Number Is: {bill_number}\")\n",
    "        for k, v in units_sold.items():\n",
    "            print(f\"{k} | Units: {v} | Cost: {v*menu[k]}\")\n",
    "            total += v*menu[k]\n",
    "            print(f\"Total is: {total}\")\n",
    "    else:\n",
    "        break"
   ]
  },
  {
   "cell_type": "code",
   "execution_count": null,
   "metadata": {},
   "outputs": [],
   "source": []
  }
 ],
 "metadata": {
  "kernelspec": {
   "display_name": "Python 3",
   "language": "python",
   "name": "python3"
  },
  "language_info": {
   "codemirror_mode": {
    "name": "ipython",
    "version": 3
   },
   "file_extension": ".py",
   "mimetype": "text/x-python",
   "name": "python",
   "nbconvert_exporter": "python",
   "pygments_lexer": "ipython3",
   "version": "3.11.6"
  }
 },
 "nbformat": 4,
 "nbformat_minor": 2
}
