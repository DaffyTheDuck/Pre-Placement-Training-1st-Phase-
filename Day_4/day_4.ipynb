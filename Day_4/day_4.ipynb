{
 "cells": [
  {
   "cell_type": "markdown",
   "metadata": {},
   "source": [
    "### Day 3 Continued"
   ]
  },
  {
   "cell_type": "code",
   "execution_count": null,
   "metadata": {},
   "outputs": [],
   "source": [
    "# Lambda Functions"
   ]
  },
  {
   "cell_type": "code",
   "execution_count": 1,
   "metadata": {},
   "outputs": [
    {
     "data": {
      "text/plain": [
       "4"
      ]
     },
     "execution_count": 1,
     "metadata": {},
     "output_type": "execute_result"
    }
   ],
   "source": [
    "double = lambda x: x*x\n",
    "double(2)"
   ]
  },
  {
   "cell_type": "code",
   "execution_count": 2,
   "metadata": {},
   "outputs": [
    {
     "name": "stdout",
     "output_type": "stream",
     "text": [
      "Before Function: 10\n",
      "After Function: 20\n"
     ]
    }
   ],
   "source": [
    "# function vs python\n",
    "\n",
    "# Function\n",
    "x = 10\n",
    "\n",
    "def myFunction():\n",
    "    global x\n",
    "    x += 10\n",
    "\n",
    "print(f\"Before Function: {x}\")\n",
    "myFunction()\n",
    "print(f\"After Function: {x}\")\n"
   ]
  },
  {
   "cell_type": "code",
   "execution_count": 8,
   "metadata": {},
   "outputs": [
    {
     "name": "stdout",
     "output_type": "stream",
     "text": [
      "[7.5, 17.5, 27.5]\n"
     ]
    }
   ],
   "source": [
    "# Q1: using function add to lists to create average 3rd list\n",
    "# Example: [10, 20, 30] and [5, 15, 25] [(10+5)/2]\n",
    "\n",
    "list_1 = [10, 20, 30]\n",
    "list_2 = [5, 15, 25]\n",
    "\n",
    "def listAdder(list_1, list_2):\n",
    "    tempList = []\n",
    "    for i in range(len(list_1)):\n",
    "        tempList.append((list_1[i]+list_2[i])/2)\n",
    "    return tempList\n",
    "\n",
    "print(listAdder(list_1, list_2))"
   ]
  },
  {
   "cell_type": "code",
   "execution_count": 81,
   "metadata": {},
   "outputs": [
    {
     "name": "stdout",
     "output_type": "stream",
     "text": [
      "[11, 20, 21, 23, 24, 26, 34, 68, 70, 100, 101]\n"
     ]
    }
   ],
   "source": [
    "# Q2: find leader in given list:\n",
    "\n",
    "# list_1 = [3, 1, 7, 2, 9, 10]\n",
    "list_1 = [11, 20, 21, 23, 24, 26, 3, 34, 68, 70, 8, 100, 101]\n",
    "leaders = []\n",
    "\n",
    "# def findLeader(list_1):\n",
    "#     leaders.append(list_1[0])\n",
    "#     for i in range(1, len(list_1)):\n",
    "#         if list_1[i] > list_1[i-1]:\n",
    "#             leaders.append(list_1[i])\n",
    "#     print(leaders)\n",
    "\n",
    "leader_s = lambda list_1: [list_1[x] for x in range(0, len(list_1)) if list_1[x] > list_1[x-1]]\n",
    "leaders_list = leader_s(list_1=list_1)\n",
    "leaders_list.insert(0, list_1[0])\n",
    "print(leaders_list)\n",
    "\n",
    "# CHECK!!!!\n"
   ]
  },
  {
   "cell_type": "code",
   "execution_count": 59,
   "metadata": {},
   "outputs": [
    {
     "name": "stdout",
     "output_type": "stream",
     "text": [
      "[3, 4, 5]\n"
     ]
    }
   ],
   "source": [
    "list_1 = [1, 2, 3, 5, 4]\n",
    "list_2 = [3, 4, 5, 6]\n",
    "commons = []\n",
    "\n",
    "# def isInList(list_1, list_2):\n",
    "#     for i in list_1:\n",
    "#         if i in list_2:\n",
    "#             commons.append(i)\n",
    "\n",
    "# isInList(list_1, list_2)\n",
    "# print(commons)\n",
    "\n",
    "# def isCommon(list_1, list_2):\n",
    "#     return list(set(list_1) & set(list_2))\n",
    "\n",
    "commons = lambda list_1, list_2: list(set(list_1) & set(list_2))\n",
    "\n",
    "print(commons(list_1, list_2))\n",
    "\n",
    "# print(isCommon(list_1, list_2))"
   ]
  },
  {
   "cell_type": "code",
   "execution_count": 93,
   "metadata": {},
   "outputs": [
    {
     "name": "stdout",
     "output_type": "stream",
     "text": [
      "Eight Seven Six\n"
     ]
    }
   ],
   "source": [
    "my_string = input(\"Enter a Number: \")\n",
    "\n",
    "to_word = []\n",
    "\n",
    "word_list = {\n",
    "    1: 'One',\n",
    "    2: 'Two',\n",
    "    3: 'Three',\n",
    "    4: 'Four',\n",
    "    5: 'Five',\n",
    "    6: 'Six',\n",
    "    7: 'Seven',\n",
    "    8: 'Eight',\n",
    "    9: 'Nine',\n",
    "    10: 'Ten',\n",
    "}\n",
    "\n",
    "a = [int(x) for x in my_string]\n",
    "a.reverse()\n",
    "\n",
    "for x in a:\n",
    "    to_word.append(word_list[x])\n",
    "\n",
    "print(' '.join(to_word))"
   ]
  },
  {
   "cell_type": "code",
   "execution_count": 98,
   "metadata": {},
   "outputs": [
    {
     "name": "stdout",
     "output_type": "stream",
     "text": [
      "[1, 2, 2, 3, 2]\n"
     ]
    }
   ],
   "source": [
    "pre_defined_list = [1, 2, 2, 3, 4, 2]\n",
    "\n",
    "number_to_remove = int(input(\"Enter a number to remove: \"))\n",
    "\n",
    "for i in range(pre_defined_list.count(number_to_remove)):\n",
    "    pre_defined_list.remove(number_to_remove)\n",
    "\n",
    "print(pre_defined_list)"
   ]
  },
  {
   "cell_type": "code",
   "execution_count": 125,
   "metadata": {},
   "outputs": [
    {
     "name": "stdout",
     "output_type": "stream",
     "text": [
      "10\n"
     ]
    }
   ],
   "source": [
    "a = input(\"Enter a binary number: \")\n",
    "b=[int(x) for x in a]\n",
    "p=len(b)#digits\n",
    "d=0\n",
    "for i in b:\n",
    "    d=d+i*2**(p-1)\n",
    "    p-=1\n",
    "print(d)"
   ]
  },
  {
   "cell_type": "code",
   "execution_count": 7,
   "metadata": {},
   "outputs": [
    {
     "name": "stdout",
     "output_type": "stream",
     "text": [
      "1 2 3\n"
     ]
    }
   ],
   "source": [
    "no1, no2, no3 = map(int, input(\"Enter a number: \").split())\n",
    "print(no1, no2, no3)"
   ]
  },
  {
   "cell_type": "code",
   "execution_count": 21,
   "metadata": {},
   "outputs": [
    {
     "name": "stdout",
     "output_type": "stream",
     "text": [
      "First Non-Repeating Value in the List is: 6\n"
     ]
    }
   ],
   "source": [
    "my_list = [1, 2, 3, 2, 1, 4, 4, 3, 5, 6, 5, 7]\n",
    "\n",
    "def firstNonRepeat(my_list):\n",
    "    non_repeat = [x for x in my_list if my_list.count(x) == 1]\n",
    "    return non_repeat[0]\n",
    "\n",
    "print(f\"First Non-Repeating Value in the List is: {firstNonRepeat(my_list)}\")"
   ]
  },
  {
   "cell_type": "code",
   "execution_count": 13,
   "metadata": {},
   "outputs": [
    {
     "name": "stdout",
     "output_type": "stream",
     "text": [
      "Not Panagram\n"
     ]
    }
   ],
   "source": [
    "# Panagram program\n",
    "import string\n",
    "\n",
    "string_ = input(\"Enter a string: \").lower()\n",
    "# str_to_lst = []\n",
    "# a_to_z = string.ascii_lowercase\n",
    "# for i in string_:\n",
    "#     if i != \" \" or i != ' ':\n",
    "#         str_to_lst.append(i)\n",
    "\n",
    "# if sorted(set(str_to_lst)) == list(a_to_z):\n",
    "#     print(\"Panagram\")\n",
    "# else:\n",
    "#     print(\"Not Panagram\")\n",
    "\n",
    "a_to_z = list(string.ascii_lowercase)\n",
    "str_to_lst = sorted(set([y for y in string_ if y != \" \" or y != ' ']))\n",
    "\n",
    "if a_to_z == str_to_lst:\n",
    "    print(\"Panagram\")\n",
    "else:\n",
    "    print(\"Not Panagram\")\n"
   ]
  },
  {
   "cell_type": "code",
   "execution_count": 32,
   "metadata": {},
   "outputs": [
    {
     "name": "stdout",
     "output_type": "stream",
     "text": [
      "a3b3c4\n"
     ]
    }
   ],
   "source": [
    "my_s = input(\"Enter a string: \")\n",
    "my_dict = {}\n",
    "for k in my_s:\n",
    "    my_dict[k] = my_s.count(k)\n",
    "\n",
    "print(''.join([f'{k}{v}' for k,v in my_dict.items()]))"
   ]
  },
  {
   "cell_type": "code",
   "execution_count": null,
   "metadata": {},
   "outputs": [],
   "source": []
  }
 ],
 "metadata": {
  "kernelspec": {
   "display_name": "env",
   "language": "python",
   "name": "python3"
  },
  "language_info": {
   "codemirror_mode": {
    "name": "ipython",
    "version": 3
   },
   "file_extension": ".py",
   "mimetype": "text/x-python",
   "name": "python",
   "nbconvert_exporter": "python",
   "pygments_lexer": "ipython3",
   "version": "3.11.6"
  }
 },
 "nbformat": 4,
 "nbformat_minor": 2
}
