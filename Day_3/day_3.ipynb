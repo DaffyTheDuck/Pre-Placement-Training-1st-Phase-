{
 "cells": [
  {
   "cell_type": "code",
   "execution_count": 1,
   "metadata": {},
   "outputs": [
    {
     "name": "stdout",
     "output_type": "stream",
     "text": [
      "Mihir mihir Mihir \n",
      "Bhave \n",
      "DaffyTheDuck\n"
     ]
    }
   ],
   "source": [
    "# Declaring a string\n",
    "\n",
    "s = 'Mihir'\n",
    "s1 = \"mihir\"\n",
    "s2 = \"\"\"Mihir\n",
    "Bhave\"\"\" #Known as the strongest type of the string\n",
    "s3 = '''\n",
    "DaffyTheDuck''' #Known as the strongest type of the string\n",
    "\n",
    "print(s, s1, s2, s3)"
   ]
  },
  {
   "cell_type": "code",
   "execution_count": 2,
   "metadata": {},
   "outputs": [
    {
     "name": "stdout",
     "output_type": "stream",
     "text": [
      "D\n",
      "a\n",
      "f\n",
      "f\n",
      "y\n",
      "T\n",
      "h\n",
      "e\n",
      "D\n",
      "u\n",
      "c\n",
      "k\n"
     ]
    }
   ],
   "source": [
    "# They are itetrateable\n",
    "\n",
    "s = \"DaffyTheDuck\"\n",
    "\n",
    "for x in s:\n",
    "    print(x)"
   ]
  },
  {
   "cell_type": "code",
   "execution_count": 3,
   "metadata": {},
   "outputs": [
    {
     "name": "stdout",
     "output_type": "stream",
     "text": [
      "k\n"
     ]
    }
   ],
   "source": [
    "# indexing in string\n",
    "\n",
    "s = \"DaffyTheDuck\"\n",
    "\n",
    "print(s[-1]) # prints last letter (k)"
   ]
  },
  {
   "cell_type": "code",
   "execution_count": 10,
   "metadata": {},
   "outputs": [
    {
     "name": "stdout",
     "output_type": "stream",
     "text": [
      "65\n",
      "97\n",
      "A\n"
     ]
    }
   ],
   "source": [
    "# Chat to ASCII\n",
    "\n",
    "print(ord('A'))\n",
    "print(ord('a'))\n",
    "\n",
    "print(chr(65))\n",
    "# ord('b')\n",
    "# ord('B')"
   ]
  },
  {
   "cell_type": "code",
   "execution_count": 20,
   "metadata": {},
   "outputs": [
    {
     "name": "stdout",
     "output_type": "stream",
     "text": [
      "A-65\n",
      "B-66\n",
      "C-67\n",
      "D-68\n",
      "E-69\n",
      "F-70\n",
      "G-71\n",
      "H-72\n",
      "I-73\n",
      "J-74\n",
      "K-75\n",
      "L-76\n",
      "M-77\n",
      "N-78\n",
      "O-79\n",
      "P-80\n",
      "Q-81\n",
      "R-82\n",
      "S-83\n",
      "T-84\n",
      "U-85\n",
      "V-86\n",
      "W-87\n",
      "X-88\n",
      "Y-89\n",
      "Z-90\n"
     ]
    }
   ],
   "source": [
    "import string\n",
    "\n",
    "# using_string = string.ascii_uppercase\n",
    "using_string = 'ABCDEFGHIJKLMNOPQRSTUVWXYZ'\n",
    "lower_case = list(string.ascii_uppercase)\n",
    "\n",
    "# for l in lower_case:\n",
    "#     print(f\"{l}-{ord(l)}\")\n",
    "\n",
    "for i in using_string:\n",
    "    print(f\"{i}-{ord(i)}\")"
   ]
  },
  {
   "cell_type": "code",
   "execution_count": 44,
   "metadata": {},
   "outputs": [
    {
     "name": "stdout",
     "output_type": "stream",
     "text": [
      "P\n",
      "PQ\n",
      "PQR\n",
      "PQRS\n",
      "PQRST\n"
     ]
    }
   ],
   "source": [
    "# Take two chrs form user and print triangle\n",
    "\"\"\"\n",
    "start p; end T\n",
    "\n",
    "P\n",
    "PQ\n",
    "PQR\n",
    "PQRS\n",
    "PQRST\n",
    "\"\"\"\n",
    "\n",
    "start = input(\"Enter starting character: \")\n",
    "end = input(\"Enter the ending character: \")\n",
    "\n",
    "start_ascii = ord(start)\n",
    "end_ascii = ord(end)\n",
    "\n",
    "for i in range(start_ascii, end_ascii+1):\n",
    "    for j in range(start_ascii, i+1):\n",
    "        print(chr(j), end='')\n",
    "    print()"
   ]
  },
  {
   "cell_type": "code",
   "execution_count": 58,
   "metadata": {},
   "outputs": [
    {
     "name": "stdout",
     "output_type": "stream",
     "text": [
      "X X X X X \n",
      "X X X X \n",
      "X X X \n",
      "X X \n",
      "X \n"
     ]
    }
   ],
   "source": [
    "# Star Printing\n",
    "for i in range(5,0,-1):\n",
    "    #1st line\n",
    "    print(\"X \"*i)\n"
   ]
  },
  {
   "cell_type": "code",
   "execution_count": 106,
   "metadata": {},
   "outputs": [
    {
     "name": "stdout",
     "output_type": "stream",
     "text": [
      "X\n",
      "XX\n",
      "XXX\n",
      "XXXX\n",
      "XXXXX\n"
     ]
    }
   ],
   "source": [
    "# for i in range(1, 6):\n",
    "#     #1st line\n",
    "#     print(\" \"*(6-i), \"X\"*i)\n",
    "\n",
    "for i in range(1, 6):\n",
    "    #1st line\n",
    "    print(\"X\"*i)"
   ]
  },
  {
   "cell_type": "code",
   "execution_count": 66,
   "metadata": {},
   "outputs": [
    {
     "name": "stdout",
     "output_type": "stream",
     "text": [
      "      X \n",
      "     X X \n",
      "    X X X \n",
      "   X X X X \n",
      "  X X X X X \n"
     ]
    }
   ],
   "source": [
    "for i in range(1, 6):\n",
    "    #1st line\n",
    "    print(\" \"*(6-i), \"X \"*i)"
   ]
  },
  {
   "cell_type": "code",
   "execution_count": 80,
   "metadata": {},
   "outputs": [
    {
     "name": "stdout",
     "output_type": "stream",
     "text": [
      "      * \n",
      "     * * \n",
      "    * * * \n",
      "   * * * * \n",
      "  * * * * * \n",
      "   * * * * \n",
      "    * * * \n",
      "     * * \n",
      "      * \n"
     ]
    }
   ],
   "source": [
    "for i in range(1, 6):\n",
    "    #1st line\n",
    "    print(\" \"*(6-i), \"* \"*i)\n",
    "for j in range(4, 0, -1):\n",
    "    print(\" \"*(6-j), \"* \"*j)"
   ]
  },
  {
   "cell_type": "code",
   "execution_count": 88,
   "metadata": {},
   "outputs": [
    {
     "name": "stdout",
     "output_type": "stream",
     "text": [
      "******\n",
      "*    *\n",
      "*    *\n",
      "******\n"
     ]
    }
   ],
   "source": [
    "print(\"*\"*6)\n",
    "for i in (1, 5):\n",
    "    print(\"*\", \" \"*2, \"*\")\n",
    "print(\"*\"*6)"
   ]
  },
  {
   "cell_type": "code",
   "execution_count": 96,
   "metadata": {},
   "outputs": [
    {
     "name": "stdout",
     "output_type": "stream",
     "text": [
      "Daf\n",
      "fy\n",
      "The\n",
      "Duck\n"
     ]
    }
   ],
   "source": [
    "# Slicing in string\n",
    "\n",
    "s = \"DaffyTheDuck\"\n",
    "\n",
    "print(s[0:3])\n",
    "print(s[3:5])\n",
    "print(s[5:8])\n",
    "print(s[8:])"
   ]
  },
  {
   "cell_type": "code",
   "execution_count": 113,
   "metadata": {},
   "outputs": [
    {
     "name": "stdout",
     "output_type": "stream",
     "text": [
      "M\n",
      "Mi\n",
      "Mih\n",
      "Mihi\n",
      "Mihir\n"
     ]
    }
   ],
   "source": [
    "# Create word triangle\n",
    "\n",
    "user_input = input(\"Enter the string: \")\n",
    "for i in range(len(user_input)):\n",
    "    print(user_input[:i+1])"
   ]
  },
  {
   "cell_type": "code",
   "execution_count": 117,
   "metadata": {},
   "outputs": [
    {
     "name": "stdout",
     "output_type": "stream",
     "text": [
      "False\n",
      "True\n",
      "False\n",
      "False\n"
     ]
    }
   ],
   "source": [
    "name = \"DaffyTheDuck\"\n",
    "print('Mihir' in name)\n",
    "print(\"Daffy\" in name)\n",
    "print('mihir' in name)\n",
    "print('daffy' in name)"
   ]
  },
  {
   "cell_type": "code",
   "execution_count": 118,
   "metadata": {},
   "outputs": [
    {
     "name": "stdout",
     "output_type": "stream",
     "text": [
      "*         \n",
      "**       \n",
      "****   \n",
      "********\n",
      "****************\n",
      "********************************\n",
      "****************************************************************\n",
      "********************************************************************************************************************************\n",
      "****************************************************************************************************************************************************************************************************************************************************************\n"
     ]
    }
   ],
   "source": [
    "s=\"*\"\n",
    "space=10\n",
    "for i in range(1,10):\n",
    "    print(s.ljust(space))\n",
    "    s=s*2\n",
    "    space-=i"
   ]
  },
  {
   "cell_type": "code",
   "execution_count": 1,
   "metadata": {},
   "outputs": [
    {
     "name": "stdout",
     "output_type": "stream",
     "text": [
      "77 #############################################################################   \n",
      "                                    ******************************************** 44\n",
      "33 #################################                                               \n",
      "                            **************************************************** 52\n",
      "42 ##########################################                                      \n",
      "         *********************************************************************** 71\n",
      "54 ######################################################                          \n",
      "   ***************************************************************************** 77\n"
     ]
    }
   ],
   "source": [
    "'''\n",
    "consider one has result of 2 students\n",
    "in a list\n",
    "plot alternet histrogram for the same\n",
    "but student 1 left align\n",
    "student 2 is right align\n",
    "'''\n",
    "s1=[77,33,42,54]\n",
    "s2=[44,52,71,77]\n",
    "s_1=\"#\"\n",
    "s_2=\"*\"\n",
    "for i in range(4):\n",
    "    sp1=s_1*s1[i]\n",
    "    print(s1[i],sp1.ljust(80))\n",
    "    sp2=s_2*s2[i]\n",
    "    print(sp2.rjust(80),s2[i])"
   ]
  },
  {
   "cell_type": "code",
   "execution_count": 11,
   "metadata": {},
   "outputs": [
    {
     "name": "stdout",
     "output_type": "stream",
     "text": [
      "Word count: 3\n"
     ]
    }
   ],
   "source": [
    "# count number of words in line\n",
    "#one code : count number of words in line entered by user\n",
    "print(\"Word count:\",len(input(\"Enter a line to test:\").split()))"
   ]
  },
  {
   "cell_type": "code",
   "execution_count": 10,
   "metadata": {},
   "outputs": [
    {
     "name": "stdout",
     "output_type": "stream",
     "text": [
      "Palindrome\n"
     ]
    }
   ],
   "source": [
    "string = input(\"Enter a string\")\n",
    "if string == string[::-1]:\n",
    "    print(\"Palindrome\")\n",
    "else:\n",
    "    print(\"Not Palindrome\")"
   ]
  },
  {
   "cell_type": "code",
   "execution_count": 16,
   "metadata": {},
   "outputs": [
    {
     "name": "stdout",
     "output_type": "stream",
     "text": [
      "Word: this is for your test\n",
      "Vowel Count: 6\n"
     ]
    }
   ],
   "source": [
    "# Count number of vowels in a string\n",
    "string = input(\"Enter a string: \").lower()\n",
    "\n",
    "vowels = ['a', 'e', 'i', 'o', 'u']\n",
    "count = 0\n",
    "for i in string:\n",
    "    if i in vowels:\n",
    "        count += 1\n",
    "print(f\"Word: {string}\")\n",
    "print(f\"Vowel Count: {count}\")\n"
   ]
  },
  {
   "cell_type": "code",
   "execution_count": 30,
   "metadata": {},
   "outputs": [
    {
     "name": "stdout",
     "output_type": "stream",
     "text": [
      "Word: apsit: Count: 4\n"
     ]
    }
   ],
   "source": [
    "# Count max frequency word in line of string\n",
    "word = input(\"Enter a word: \").lower()\n",
    "unique_word = \"\"\n",
    "word_list = word.split()\n",
    "frequency_list = max(set([word_list.count(x) for x in word_list]))\n",
    "for i in word_list:\n",
    "    if word_list.count(i)==frequency_list:\n",
    "        unique_word = i\n",
    "print(f\"Word: {unique_word}: Count: {frequency_list}\")"
   ]
  },
  {
   "cell_type": "code",
   "execution_count": 1,
   "metadata": {},
   "outputs": [
    {
     "data": {
      "text/plain": [
       "1"
      ]
     },
     "execution_count": 1,
     "metadata": {},
     "output_type": "execute_result"
    }
   ],
   "source": [
    "#if we compare word from string (substring matches)\n",
    "#if we compare word from list only word matches\n",
    "string=\"this is it\"\n",
    "string.count(\" is \")"
   ]
  },
  {
   "cell_type": "code",
   "execution_count": 15,
   "metadata": {},
   "outputs": [
    {
     "name": "stdout",
     "output_type": "stream",
     "text": [
      "it is this\n"
     ]
    }
   ],
   "source": [
    "# Reverse line of string word by word\n",
    "\n",
    "string = input(\"Enter a string: \")\n",
    "to_list = string.split()\n",
    "to_list.reverse()\n",
    "print(' '.join(to_list))\n",
    "\n",
    "# Galat ho gaya ye XD\n"
   ]
  },
  {
   "cell_type": "code",
   "execution_count": 24,
   "metadata": {},
   "outputs": [
    {
     "name": "stdout",
     "output_type": "stream",
     "text": [
      "Anagram\n"
     ]
    }
   ],
   "source": [
    "# Anagram or not\n",
    "first_string = input(\"Enter first string: \").lower()\n",
    "second_string = input(\"Ener second string: \").lower()\n",
    "first_string_list = list(first_string).sort()\n",
    "second_string_list = list(second_string).sort()\n",
    "\n",
    "if first_string_list == second_string_list:\n",
    "    print(\"Anagram\")\n",
    "else:\n",
    "    print(\"Not Anagram\")"
   ]
  },
  {
   "cell_type": "markdown",
   "metadata": {},
   "source": [
    "### Document Strings (Doc Strings)"
   ]
  },
  {
   "cell_type": "code",
   "execution_count": 25,
   "metadata": {},
   "outputs": [
    {
     "name": "stdout",
     "output_type": "stream",
     "text": [
      "Hello!\n"
     ]
    }
   ],
   "source": [
    "def hi():\n",
    "    \"\"\"\n",
    "    greets the user\n",
    "    \"\"\"\n",
    "    print(\"Hello!\")\n",
    "\n",
    "hi()"
   ]
  },
  {
   "cell_type": "code",
   "execution_count": 39,
   "metadata": {},
   "outputs": [
    {
     "name": "stdout",
     "output_type": "stream",
     "text": [
      "3\n"
     ]
    }
   ],
   "source": [
    "# min of 4 using function\n",
    "\n",
    "def minOf4(no1, no2, no3, no4):\n",
    "    return min(no1, no2, no3, no4)\n",
    "print(minOf4(11, 5, 23, 3))"
   ]
  },
  {
   "cell_type": "code",
   "execution_count": 40,
   "metadata": {},
   "outputs": [
    {
     "data": {
      "text/plain": [
       "2"
      ]
     },
     "execution_count": 40,
     "metadata": {},
     "output_type": "execute_result"
    }
   ],
   "source": [
    "my_list = ['hi', 'hi', 'hello']\n",
    "my_list.count('hi')"
   ]
  },
  {
   "cell_type": "code",
   "execution_count": null,
   "metadata": {},
   "outputs": [],
   "source": []
  }
 ],
 "metadata": {
  "kernelspec": {
   "display_name": "env",
   "language": "python",
   "name": "python3"
  },
  "language_info": {
   "codemirror_mode": {
    "name": "ipython",
    "version": 3
   },
   "file_extension": ".py",
   "mimetype": "text/x-python",
   "name": "python",
   "nbconvert_exporter": "python",
   "pygments_lexer": "ipython3",
   "version": "3.11.6"
  }
 },
 "nbformat": 4,
 "nbformat_minor": 2
}
