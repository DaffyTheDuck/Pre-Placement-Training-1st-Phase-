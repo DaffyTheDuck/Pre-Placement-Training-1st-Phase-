{
 "cells": [
  {
   "cell_type": "code",
   "execution_count": 2,
   "metadata": {},
   "outputs": [
    {
     "name": "stdout",
     "output_type": "stream",
     "text": [
      "Male\n",
      "Mihir\n"
     ]
    }
   ],
   "source": [
    "class Human:\n",
    "\n",
    "    def birth(self):\n",
    "        self.gender = input(\"Enter the gender: \")\n",
    "        print(self.gender)\n",
    "    \n",
    "    def naming(self):\n",
    "        self.name = input(\"Enter the name: \")\n",
    "        print(self.name)\n",
    "\n",
    "person1 = Human()\n",
    "person1.birth()\n",
    "person1.naming()\n"
   ]
  },
  {
   "cell_type": "code",
   "execution_count": 9,
   "metadata": {},
   "outputs": [
    {
     "name": "stdout",
     "output_type": "stream",
     "text": [
      "Hello! Mihir; You are 21\n"
     ]
    }
   ],
   "source": [
    "# Class named person with attribute name and age\n",
    "# use set and display to take and print name and age \n",
    "\n",
    "class Person:\n",
    "\n",
    "    def setInfo(self, name, age):\n",
    "        self.name = name\n",
    "        self.age = age\n",
    "    \n",
    "    def displayInfo(self):\n",
    "        return f\"Hello! {self.name}; You are {self.age}\"\n",
    "\n",
    "p1 = Person()\n",
    "p1.setInfo(input(\"Enter Your Age: \"), input(\"Enter Your Name: \"))\n",
    "print(p1.displayInfo())"
   ]
  },
  {
   "cell_type": "code",
   "execution_count": 36,
   "metadata": {},
   "outputs": [],
   "source": [
    "bank_accounts = {}"
   ]
  },
  {
   "cell_type": "code",
   "execution_count": 68,
   "metadata": {},
   "outputs": [
    {
     "name": "stdout",
     "output_type": "stream",
     "text": [
      "dict_items([(882930, {'name': 'Mihir', 'age': 21, 'gender': 'Male', 'balance': 4500000.0}), (832028, {'name': 'DaffyDuck', 'age': 23, 'gender': 'male', 'balance': 1200000.0}), (768128, {'name': 'DaffyTheDuck2', 'age': 23, 'gender': 'Male', 'balance': 450000.0}), (525062, {'name': 'jishan', 'age': 20, 'gender': 'M', 'balance': 100000.0})])\n"
     ]
    }
   ],
   "source": [
    "print(bank_accounts.items())"
   ]
  },
  {
   "cell_type": "code",
   "execution_count": null,
   "metadata": {},
   "outputs": [],
   "source": [
    "from random import randint\n",
    "\n",
    "class Bank:\n",
    "\n",
    "    def __init__(self):\n",
    "        self.Menu()\n",
    "        self.choice = int(input(\"Enter Your Choice: \"))\n",
    "        while self.choice != 0:\n",
    "            if self.choice == 1:\n",
    "                self.Create_Account()\n",
    "                self.Menu()\n",
    "                self.choice = int(input(\"Enter Your Choice: \"))\n",
    "            elif self.choice == 2:\n",
    "                self.Check_Balance()\n",
    "                self.Menu()\n",
    "                self.choice = int(input(\"Enter Your Choice: \"))\n",
    "            elif self.choice == 3:\n",
    "                self.Withdraw()\n",
    "                self.Menu()\n",
    "                self.choice = int(input(\"Enter Your Choice: \"))\n",
    "            elif self.choice == 4:\n",
    "                self.Deposit()\n",
    "                self.Menu()\n",
    "                self.choice = int(input(\"Enter Your Choice: \"))\n",
    "            elif self.choice == 5:\n",
    "                self.Transfer_Amount()\n",
    "                self.Menu()\n",
    "                self.choice = int(input(\"Enter Your Choice: \"))\n",
    "            elif self.choice == 0:\n",
    "                break\n",
    "            else:\n",
    "                print(\"Invalid Choice!\")\n",
    "                self.Menu()\n",
    "                self.choice = int(input(\"Enter Your Choice: \"))\n",
    "    \n",
    "    def Menu(self):\n",
    "        print(\"1. Create a bank account\")\n",
    "        print(\"2. Check Balance\")\n",
    "        print(\"3. Withdraw\")\n",
    "        print(\"4. Deposit\")\n",
    "        print(\"0. Exit!\")\n",
    "\n",
    "    def Create_Account(self):\n",
    "        self.name = input(\"Enter Your Name: \")\n",
    "        self.gender = input(\"Enter Your Gender: \")\n",
    "        self.age = int(input(\"Enter Your Age: \"))\n",
    "        self.bal = float(input(\"Deposit Balance: \"))\n",
    "\n",
    "        if self.age < 18:\n",
    "            print(f\"Hi! {self.name}, You must be atleast 18 to open your account with our bank!\")\n",
    "        elif self.bal < 3000:\n",
    "            print(f\"Hi! {self.name}, The minimum balance should be more than 3000 to open account!\")\n",
    "        else:\n",
    "            random_account_number = randint(0, 1000000)\n",
    "            bank_accounts[random_account_number] = {\n",
    "                'name': self.name,\n",
    "                'age': self.age,\n",
    "                'gender': self.gender,\n",
    "                'balance': self.bal\n",
    "            }\n",
    "            print(f\"Congratulation! {self.name}, You have successfully opened the account with account number: {random_account_number}\")\n",
    "\n",
    "    def Check_Balance(self):\n",
    "        self.account_number = int(input(\"Enter the account number: \"))\n",
    "        if self.account_number not in bank_accounts.keys():\n",
    "            print(f\"Invalid Account Number: {self.account_number}\")\n",
    "        else:\n",
    "            print(f\"Hello! {bank_accounts[self.account_number]['name']}, Your Current Account Balance Is: {bank_accounts[self.account_number]['balance']}\")\n",
    "\n",
    "    def Withdraw(self):\n",
    "        self.account_number = int(input(\"Enter the account number: \"))\n",
    "        if self.account_number not in bank_accounts.keys():\n",
    "            print(f\"Invalid Account Number: {self.account_number}\")\n",
    "        else:\n",
    "            self.w_amount = abs(float(input(\"Enter the amount to withdraw: \")))\n",
    "            if bank_accounts[self.account_number]['balance'] < self.w_amount:\n",
    "                print(\"Low Bank Balance!!\")\n",
    "            elif (bank_accounts[self.account_number]['balance'] - self.w_amount) < 2000:\n",
    "                print(\"You should maintain minimum of 2000 in your account!!\")\n",
    "            else:\n",
    "                bank_accounts[self.account_number]['balance'] -= self.w_amount\n",
    "                print(\"Successful!\")\n",
    "                print(f\"Your Current Balance: {bank_accounts[self.account_number]['balance']}\")\n",
    "\n",
    "    def Deposit(self):\n",
    "        self.account_number = int(input(\"Enter the account number: \"))\n",
    "        if self.account_number not in bank_accounts.keys():\n",
    "            print(f\"Invalid Account Number: {self.account_number}\")\n",
    "        else:\n",
    "            self.d_amount = abs(float(input(\"Enter the amount to deposit: \")))\n",
    "            bank_accounts[self.account_number]['balance'] += self.d_amount\n",
    "            print(\"Successful!\")\n",
    "            print(f\"Your Current Balance: {bank_accounts[self.account_number]['balance']}\")\n",
    "    \n",
    "    def Transfer_Amount(self):\n",
    "        self.s_account_number = int(input(\"Enter senders account number: \"))\n",
    "        self.r_account_number = int(input(\"Enter receivers account number: \"))\n",
    "\n",
    "        if self.s_account_number not in bank_accounts.keys():\n",
    "            print(f\"Cannot Find Senders Account Number: {self.s_account_number}\")\n",
    "            print(\"Transfer Failed!\")\n",
    "        elif self.r_account_number not in bank_accounts.keys():\n",
    "            print(f\"Cannot Find Senders Account Number: {self.s_account_number}\")\n",
    "            print(\"Transfer Failed!\")\n",
    "        else:\n",
    "            self.s_amount = abs(float(input(\"Enter the amount to send: \")))\n",
    "            if self.s_amount > bank_accounts[self.s_account_number]['balance']:\n",
    "                print(\"Low Balance!!\")\n",
    "            else:\n",
    "                bank_accounts[self.s_account_number]['balance'] -= self.s_amount\n",
    "                bank_accounts[self.r_account_number]['balance'] += self.s_amount\n",
    "                print(f\"Transfer Amount: {self.s_amount} | From: {self.s_account_number} | To: {self.r_account_number} Successful!\")\n",
    "                # print(f\"Balance For {bank_accounts[self.s_account_number]}:{bank_accounts[self.s_account_number]['balance']}\")\n",
    "                # print(f\"Balance For {bank_accounts[self.r_account_number]}:{bank_accounts[self.r_account_number]['balance']}\")\n",
    "\n",
    "b1 = Bank()"
   ]
  },
  {
   "cell_type": "code",
   "execution_count": 6,
   "metadata": {},
   "outputs": [
    {
     "name": "stdout",
     "output_type": "stream",
     "text": [
      "Name: Mihir | Gender: Male | Degree: B.E. | Salary: 250000\n"
     ]
    }
   ],
   "source": [
    "class Human:\n",
    "    def __init__(self):\n",
    "        self._name = input(\"Enter the name: \")\n",
    "        self._gedner = input(\"Enter the gender: \")\n",
    "    \n",
    "    def __str__(self):\n",
    "        return f\"Name: {self._name} | Gender: {self._gedner}\"\n",
    "\n",
    "class Student(Human):\n",
    "    def __init__(self):\n",
    "        super().__init__()\n",
    "        super().__str__()\n",
    "        self._degree = input(\"Enter The Degree: \")\n",
    "    \n",
    "    def __str__(self):\n",
    "        return f\"You are {self._degree} holder\"\n",
    "    \n",
    "class Job(Student):\n",
    "    def __init__(self):\n",
    "        super().__init__()\n",
    "        super().__str__()\n",
    "        self._salary = input(\"Enter the salary: \")\n",
    "    \n",
    "    def __str__(self):\n",
    "        return f\"Name: {self._name} | Gender: {self._gedner} | Degree: {self._degree} | Salary: {self._salary}\"\n",
    "\n",
    "job = Job()\n",
    "print(job)"
   ]
  },
  {
   "cell_type": "code",
   "execution_count": 41,
   "metadata": {},
   "outputs": [],
   "source": [
    "student_list = [\n",
    "]"
   ]
  },
  {
   "cell_type": "code",
   "execution_count": 40,
   "metadata": {},
   "outputs": [
    {
     "name": "stdout",
     "output_type": "stream",
     "text": [
      "[{'name': 'Mihir Bhave', 'gender': 'Male', 'pointer': 10.0}, {'name': 'Mihir', 'gender': 'Male', 'pointer': 9.6}, {'name': 'Mihir', 'gender': 'Male', 'pointer': 8.89}, {'name': 'Mihir Bhaveeee', 'gender': 'Male', 'pointer': 7.7}]\n"
     ]
    }
   ],
   "source": [
    "class Student:\n",
    "    def __init__(self):\n",
    "        self.name = input(\"Enter the name: \")\n",
    "        self.gender = input(\"Enter the gender: \")\n",
    "        self.pointer = float(input(\"Enter the pointer: \"))\n",
    "        student_list.append(\n",
    "            {\n",
    "                'name': self.name,\n",
    "                'gender': self.gender,\n",
    "                'pointer': self.pointer\n",
    "            }\n",
    "        )\n",
    "\n",
    "s = Student()\n",
    "print(sorted(student_list, key=lambda p: p['pointer'], reverse=True))\n"
   ]
  },
  {
   "cell_type": "code",
   "execution_count": null,
   "metadata": {},
   "outputs": [],
   "source": []
  }
 ],
 "metadata": {
  "kernelspec": {
   "display_name": "env",
   "language": "python",
   "name": "python3"
  },
  "language_info": {
   "codemirror_mode": {
    "name": "ipython",
    "version": 3
   },
   "file_extension": ".py",
   "mimetype": "text/x-python",
   "name": "python",
   "nbconvert_exporter": "python",
   "pygments_lexer": "ipython3",
   "version": "3.11.6"
  }
 },
 "nbformat": 4,
 "nbformat_minor": 2
}
